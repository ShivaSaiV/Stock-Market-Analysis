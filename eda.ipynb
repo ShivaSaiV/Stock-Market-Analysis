{
 "cells": [
  {
   "cell_type": "code",
   "execution_count": 5,
   "id": "9bdb924a",
   "metadata": {},
   "outputs": [
    {
     "name": "stderr",
     "output_type": "stream",
     "text": [
      "/Users/shivasaivummaji/miniconda3/envs/stock_market_proj/lib/python3.11/site-packages/tqdm/auto.py:21: TqdmWarning: IProgress not found. Please update jupyter and ipywidgets. See https://ipywidgets.readthedocs.io/en/stable/user_install.html\n",
      "  from .autonotebook import tqdm as notebook_tqdm\n"
     ]
    }
   ],
   "source": [
    "import pandas as pd \n",
    "import matplotlib.pyplot as plt \n",
    "import numpy as np\n",
    "import sweetviz as sv\n"
   ]
  },
  {
   "cell_type": "code",
   "execution_count": 6,
   "id": "a3267746",
   "metadata": {},
   "outputs": [
    {
     "data": {
      "text/html": [
       "<div>\n",
       "<style scoped>\n",
       "    .dataframe tbody tr th:only-of-type {\n",
       "        vertical-align: middle;\n",
       "    }\n",
       "\n",
       "    .dataframe tbody tr th {\n",
       "        vertical-align: top;\n",
       "    }\n",
       "\n",
       "    .dataframe thead th {\n",
       "        text-align: right;\n",
       "    }\n",
       "</style>\n",
       "<table border=\"1\" class=\"dataframe\">\n",
       "  <thead>\n",
       "    <tr style=\"text-align: right;\">\n",
       "      <th></th>\n",
       "      <th>Date</th>\n",
       "      <th>Ticker</th>\n",
       "      <th>Adj Close</th>\n",
       "      <th>Close</th>\n",
       "      <th>High</th>\n",
       "      <th>Low</th>\n",
       "      <th>Open</th>\n",
       "      <th>Volume</th>\n",
       "    </tr>\n",
       "  </thead>\n",
       "  <tbody>\n",
       "    <tr>\n",
       "      <th>0</th>\n",
       "      <td>2015-07-27</td>\n",
       "      <td>A</td>\n",
       "      <td>36.504906</td>\n",
       "      <td>39.610001</td>\n",
       "      <td>39.650002</td>\n",
       "      <td>38.610001</td>\n",
       "      <td>39.040001</td>\n",
       "      <td>5261300.0</td>\n",
       "    </tr>\n",
       "    <tr>\n",
       "      <th>1</th>\n",
       "      <td>2015-07-27</td>\n",
       "      <td>AAPL</td>\n",
       "      <td>27.496405</td>\n",
       "      <td>30.692499</td>\n",
       "      <td>30.902500</td>\n",
       "      <td>30.530001</td>\n",
       "      <td>30.772499</td>\n",
       "      <td>177822000.0</td>\n",
       "    </tr>\n",
       "    <tr>\n",
       "      <th>2</th>\n",
       "      <td>2015-07-27</td>\n",
       "      <td>ABBV</td>\n",
       "      <td>45.658775</td>\n",
       "      <td>69.339996</td>\n",
       "      <td>70.959999</td>\n",
       "      <td>68.459999</td>\n",
       "      <td>68.459999</td>\n",
       "      <td>12841500.0</td>\n",
       "    </tr>\n",
       "    <tr>\n",
       "      <th>3</th>\n",
       "      <td>2015-07-27</td>\n",
       "      <td>ABT</td>\n",
       "      <td>41.930363</td>\n",
       "      <td>50.689999</td>\n",
       "      <td>50.849998</td>\n",
       "      <td>50.209999</td>\n",
       "      <td>50.639999</td>\n",
       "      <td>5484200.0</td>\n",
       "    </tr>\n",
       "    <tr>\n",
       "      <th>4</th>\n",
       "      <td>2015-07-27</td>\n",
       "      <td>ACGL</td>\n",
       "      <td>22.216158</td>\n",
       "      <td>23.363333</td>\n",
       "      <td>23.526667</td>\n",
       "      <td>23.309999</td>\n",
       "      <td>23.366667</td>\n",
       "      <td>923700.0</td>\n",
       "    </tr>\n",
       "  </tbody>\n",
       "</table>\n",
       "</div>"
      ],
      "text/plain": [
       "         Date Ticker  Adj Close      Close       High        Low       Open  \\\n",
       "0  2015-07-27      A  36.504906  39.610001  39.650002  38.610001  39.040001   \n",
       "1  2015-07-27   AAPL  27.496405  30.692499  30.902500  30.530001  30.772499   \n",
       "2  2015-07-27   ABBV  45.658775  69.339996  70.959999  68.459999  68.459999   \n",
       "3  2015-07-27    ABT  41.930363  50.689999  50.849998  50.209999  50.639999   \n",
       "4  2015-07-27   ACGL  22.216158  23.363333  23.526667  23.309999  23.366667   \n",
       "\n",
       "        Volume  \n",
       "0    5261300.0  \n",
       "1  177822000.0  \n",
       "2   12841500.0  \n",
       "3    5484200.0  \n",
       "4     923700.0  "
      ]
     },
     "metadata": {},
     "output_type": "display_data"
    }
   ],
   "source": [
    "sp500_historic_df = pd.read_csv(\"/Users/shivasaivummaji/Desktop/CS:DS/Stock-Market-Analysis-1/sp500_historical.csv\")\n",
    "display(sp500_historic_df.head())"
   ]
  },
  {
   "cell_type": "code",
   "execution_count": 16,
   "id": "7d1d9a66",
   "metadata": {},
   "outputs": [
    {
     "name": "stdout",
     "output_type": "stream",
     "text": [
      "Index(['Date', 'Ticker', 'Adj Close', 'Close', 'High', 'Low', 'Open',\n",
      "       'Volume'],\n",
      "      dtype='object')\n"
     ]
    }
   ],
   "source": [
    "print(sp500_historic_df.columns)"
   ]
  },
  {
   "cell_type": "code",
   "execution_count": null,
   "id": "5957e42e",
   "metadata": {},
   "outputs": [
    {
     "name": "stderr",
     "output_type": "stream",
     "text": [
      "Done! Use 'show' commands to display/save.   |██████████| [100%]   00:00 -> (00:00 left)\n",
      "0:101: execution error: File some object wasn’t found. (-43)\n"
     ]
    },
    {
     "name": "stdout",
     "output_type": "stream",
     "text": [
      "Report sweetviz_eda.html was generated! NOTEBOOK/COLAB USERS: the web browser MAY not pop up, regardless, the report IS saved in your notebook/colab files.\n"
     ]
    }
   ],
   "source": [
    "# Lib for EDA visual\n",
    "\n",
    "report = sv.analyze(sp500_historic_df)\n",
    "report.show_html(\"sweetviz_eda.html\")\n"
   ]
  },
  {
   "cell_type": "code",
   "execution_count": 30,
   "id": "dfc95cd0",
   "metadata": {},
   "outputs": [
    {
     "name": "stdout",
     "output_type": "stream",
     "text": [
      "503 {'HWM', 'EIX', 'CSCO', 'ATO', 'STLD', 'WMB', 'HLT', 'CAG', 'ES', 'VICI', 'JNJ', 'ABNB', 'TAP', 'HIG', 'F', 'CME', 'ALGN', 'PTC', 'SW', 'WMT', 'LLY', 'WSM', 'EW', 'BXP', 'RSG', 'LEN', 'TPL', 'TPR', 'AMD', 'KMB', 'EXPE', 'GOOG', 'POOL', 'LYV', 'LIN', 'ALLE', 'AAPL', 'GEHC', 'DIS', 'TSCO', 'UNP', 'T', 'MCK', 'TER', 'BSX', 'MCD', 'HST', 'IEX', 'DG', 'SBAC', 'REG', 'VTR', 'NSC', 'TROW', 'CBRE', 'FDS', 'KEY', 'MO', 'HPE', 'TSLA', 'TDY', 'COF', 'PODD', 'EXC', 'PAYC', 'RCL', 'DOW', 'APH', 'MLM', 'MKC', 'CCI', 'ROK', 'STE', 'CTVA', 'FSLR', 'CINF', 'QCOM', 'CHD', 'ACN', 'PLD', 'MDT', 'BK', 'RVTY', 'MTB', 'CAH', 'COIN', 'MTD', 'DHR', 'TEL', 'NI', 'GS', 'IDXX', 'PSA', 'LVS', 'AVGO', 'NEM', 'RJF', 'FTV', 'PRU', 'EQT', 'WBD', 'LOW', 'EQR', 'CL', 'GL', 'PGR', 'IFF', 'LII', 'NVR', 'CDW', 'PM', 'CAT', 'EL', 'ARE', 'FICO', 'NTRS', 'TMUS', 'XYL', 'AMZN', 'NDSN', 'WAB', 'AMCR', 'SCHW', 'NXPI', 'CMCSA', 'BBY', 'APO', 'ZBH', 'RL', 'LNT', 'CMG', 'EPAM', 'L', 'SWKS', 'WELL', 'CCL', 'PARA', 'TECH', 'EXE', 'SJM', 'DGX', 'TDG', 'TJX', 'NVDA', 'HSIC', 'SOLV', 'MRNA', 'URI', 'TMO', 'VZ', 'ITW', 'ON', 'GOOGL', 'CMS', 'INCY', 'AFL', 'SBUX', 'JKHY', 'BF-B', 'MPC', 'CTSH', 'STZ', 'CPT', 'DUK', 'ALL', 'CDNS', 'GNRC', 'DVA', 'EXPD', 'MOH', 'NWS', 'EG', 'MRK', 'AEP', 'SO', 'NCLH', 'PYPL', 'EA', 'NEE', 'SHW', 'HD', 'PCG', 'BKR', 'SYK', 'PG', 'KO', 'K', 'AOS', 'CB', 'HOLX', 'CI', 'BR', 'FDX', 'MAR', 'MTCH', 'DD', 'JBHT', 'MNST', 'CTRA', 'UHS', 'CARR', 'UBER', 'ADI', 'TSN', 'PAYX', 'MPWR', 'MSFT', 'NUE', 'EXR', 'CRL', 'RF', 'DAY', 'CLX', 'BLK', 'C', 'DPZ', 'CTAS', 'GD', 'FOXA', 'ZBRA', 'AES', 'DOC', 'ORLY', 'JPM', 'ADBE', 'ABBV', 'AZO', 'NDAQ', 'ADSK', 'TRMB', 'ISRG', 'STT', 'VRTX', 'FCX', 'FI', 'TGT', 'DTE', 'CMI', 'AJG', 'CZR', 'AON', 'FAST', 'CVX', 'DE', 'COST', 'OMC', 'IR', 'IPG', 'BX', 'ESS', 'CEG', 'INTU', 'AIZ', 'ECL', 'EMR', 'MGM', 'CVS', 'REGN', 'HBAN', 'WTW', 'VLTO', 'GRMN', 'DXCM', 'NOC', 'AVB', 'HAL', 'FANG', 'FITB', 'VMC', 'ADP', 'CNP', 'SYY', 'LYB', 'ETR', 'KVUE', 'AXON', 'BAC', 'COP', 'PH', 'VST', 'J', 'WY', 'XEL', 'FFIV', 'BRK-B', 'BDX', 'WAT', 'CSX', 'CNC', 'GE', 'CPRT', 'KMX', 'COR', 'DRI', 'MKTX', 'ROL', 'SNPS', 'HRL', 'MMC', 'BRO', 'CBOE', 'AVY', 'GEN', 'GPN', 'EQIX', 'HON', 'KIM', 'WRB', 'NFLX', 'HSY', 'OTIS', 'PFG', 'RMD', 'AME', 'AIG', 'NTAP', 'DDOG', 'GEV', 'ETN', 'CHRW', 'TKO', 'MSCI', 'LULU', 'XYZ', 'DASH', 'DELL', 'DHI', 'WYNN', 'ROST', 'APD', 'CRWD', 'SMCI', 'XOM', 'O', 'VLO', 'GILD', 'AEE', 'AXP', 'INTC', 'LH', 'PCAR', 'EOG', 'GDDY', 'TFC', 'LKQ', 'LHX', 'APA', 'STX', 'NRG', 'LUV', 'PNW', 'HAS', 'UAL', 'KR', 'TRGP', 'WBA', 'IP', 'PSX', 'SLB', 'IVZ', 'ADM', 'MMM', 'JCI', 'VRSK', 'INVH', 'DECK', 'BMY', 'PHM', 'AMGN', 'TT', 'ERIE', 'A', 'PFE', 'PANW', 'D', 'PLTR', 'GLW', 'CPB', 'PWR', 'LMT', 'DOV', 'ANET', 'IT', 'BG', 'PPL', 'AKAM', 'MS', 'ROP', 'APTV', 'ULTA', 'AMT', 'BIIB', 'YUM', 'TXN', 'BAX', 'DAL', 'ACGL', 'JBL', 'MCHP', 'AMP', 'EVRG', 'TYL', 'HUM', 'KEYS', 'IQV', 'PEP', 'UDR', 'BA', 'PNR', 'MA', 'FOX', 'OKE', 'PPG', 'AMAT', 'KKR', 'MET', 'HPQ', 'FRT', 'LW', 'UPS', 'AWK', 'VTRS', 'ALB', 'SPGI', 'IBM', 'TRV', 'V', 'USB', 'PEG', 'EFX', 'KMI', 'ELV', 'MCO', 'CFG', 'SPG', 'EBAY', 'MDLZ', 'META', 'MU', 'ED', 'DLR', 'SRE', 'EMN', 'ABT', 'NWSA', 'ICE', 'FIS', 'MAS', 'HII', 'MOS', 'PKG', 'WM', 'COO', 'ORCL', 'FTNT', 'VRSN', 'MAA', 'RTX', 'ODFL', 'DVN', 'WEC', 'HUBB', 'SNA', 'BKNG', 'BLDR', 'WST', 'LDOS', 'HCA', 'BALL', 'CSGP', 'TTD', 'GWW', 'SWK', 'TXT', 'NKE', 'GM', 'LRCX', 'BEN', 'KLAC', 'MSI', 'CF', 'KHC', 'KDP', 'IRM', 'WDC', 'UNH', 'PNC', 'ZTS', 'NOW', 'TTWO', 'WDAY', 'GIS', 'CRM', 'SYF', 'WFC', 'FE', 'DLTR', 'CHTR', 'ENPH', 'GPC', 'CPAY', 'MHK', 'OXY'}\n",
      "False\n",
      "object\n"
     ]
    }
   ],
   "source": [
    "tickers = sp500_historic_df[\"Ticker\"]\n",
    "unique_tickers = set(tickers.values)\n",
    "print(len(unique_tickers), unique_tickers)\n",
    "print(tickers.isna().any())\n",
    "print(tickers.dtype)"
   ]
  },
  {
   "cell_type": "code",
   "execution_count": 29,
   "id": "3264e185",
   "metadata": {},
   "outputs": [
    {
     "name": "stdout",
     "output_type": "stream",
     "text": [
      "False\n",
      "object\n"
     ]
    }
   ],
   "source": [
    "dates = sp500_historic_df[\"Date\"]\n",
    "print(dates.isna().any())\n",
    "print(dates.dtype)"
   ]
  },
  {
   "cell_type": "code",
   "execution_count": 28,
   "id": "215126ca",
   "metadata": {},
   "outputs": [
    {
     "name": "stdout",
     "output_type": "stream",
     "text": [
      "False\n",
      "float64\n"
     ]
    }
   ],
   "source": [
    "adj_close = sp500_historic_df[\"Adj Close\"]\n",
    "print(adj_close.isna().any())\n",
    "print(adj_close.dtype)"
   ]
  },
  {
   "cell_type": "markdown",
   "id": "5adee5aa",
   "metadata": {},
   "source": [
    "Data Cleaning"
   ]
  },
  {
   "cell_type": "code",
   "execution_count": null,
   "id": "b2da43d5",
   "metadata": {},
   "outputs": [
    {
     "name": "stdout",
     "output_type": "stream",
     "text": [
      "Ticker\n",
      "A       2515\n",
      "NKE     2515\n",
      "NXPI    2515\n",
      "NWSA    2515\n",
      "NWS     2515\n",
      "        ... \n",
      "GEHC     653\n",
      "KVUE     558\n",
      "VLTO     453\n",
      "SOLV     334\n",
      "GEV      333\n",
      "Name: count, Length: 503, dtype: int64\n",
      "Ticker\n",
      "A       2515\n",
      "NKE     2515\n",
      "NXPI    2515\n",
      "NWSA    2515\n",
      "NWS     2515\n",
      "        ... \n",
      "HWM     2194\n",
      "LW      2187\n",
      "INVH    2132\n",
      "IR      2062\n",
      "VICI    1901\n",
      "Name: count, Length: 481, dtype: int64\n"
     ]
    }
   ],
   "source": [
    "# Utilizing counts for tickers\n",
    "\n",
    "ticker_counts = sp500_historic_df['Ticker'].value_counts()\n",
    "print(ticker_counts)\n",
    "valid_tickers_t = ticker_counts[ticker_counts > 1826]\n",
    "print(valid_tickers_t)\n",
    "\n",
    "ticker_counts_map = {}\n",
    "for index, row in sp500_historic_df.iterrows():\n",
    "    ticker = row[\"Ticker\"]\n",
    "    if ticker in ticker_counts_map:\n",
    "        ticker_counts_map[ticker] += 1\n",
    "    else:\n",
    "        ticker_counts_map[ticker] = 1\n"
   ]
  },
  {
   "cell_type": "code",
   "execution_count": null,
   "id": "397f4477",
   "metadata": {},
   "outputs": [],
   "source": [
    "# Create a set of valid tickers with 5 years or more data\n",
    "valid_tickers = set()\n",
    "\n",
    "for ticker, count in ticker_counts_map.items():\n",
    "    if count > 1826:\n",
    "        valid_tickers.add(ticker)"
   ]
  },
  {
   "cell_type": "code",
   "execution_count": 51,
   "id": "23e09a9b",
   "metadata": {},
   "outputs": [
    {
     "name": "stdout",
     "output_type": "stream",
     "text": [
      "481 {'HWM', 'EIX', 'CSCO', 'ATO', 'STLD', 'WMB', 'HLT', 'CAG', 'ES', 'VICI', 'JNJ', 'TAP', 'HIG', 'F', 'CME', 'ALGN', 'PTC', 'SW', 'WMT', 'LLY', 'WSM', 'EW', 'BXP', 'RSG', 'LEN', 'TPL', 'TPR', 'AMD', 'KMB', 'EXPE', 'GOOG', 'POOL', 'LYV', 'LIN', 'ALLE', 'AAPL', 'DIS', 'TSCO', 'UNP', 'T', 'MCK', 'TER', 'BSX', 'MCD', 'HST', 'IEX', 'DG', 'SBAC', 'REG', 'VTR', 'NSC', 'TROW', 'CBRE', 'FDS', 'KEY', 'MO', 'HPE', 'TSLA', 'TDY', 'COF', 'PODD', 'EXC', 'PAYC', 'RCL', 'APH', 'MLM', 'MKC', 'CCI', 'ROK', 'STE', 'FSLR', 'CINF', 'QCOM', 'CHD', 'ACN', 'PLD', 'MDT', 'BK', 'RVTY', 'MTB', 'CAH', 'MTD', 'DHR', 'TEL', 'NI', 'GS', 'IDXX', 'PSA', 'LVS', 'AVGO', 'NEM', 'RJF', 'FTV', 'PRU', 'EQT', 'WBD', 'LOW', 'EQR', 'CL', 'GL', 'PGR', 'IFF', 'LII', 'NVR', 'CDW', 'PM', 'CAT', 'EL', 'ARE', 'FICO', 'NTRS', 'TMUS', 'XYL', 'AMZN', 'NDSN', 'WAB', 'AMCR', 'SCHW', 'NXPI', 'CMCSA', 'BBY', 'APO', 'ZBH', 'RL', 'LNT', 'CMG', 'EPAM', 'L', 'SWKS', 'WELL', 'CCL', 'PARA', 'TECH', 'SJM', 'DGX', 'TDG', 'TJX', 'NVDA', 'HSIC', 'URI', 'TMO', 'VZ', 'ITW', 'ON', 'GOOGL', 'CMS', 'INCY', 'AFL', 'SBUX', 'JKHY', 'BF-B', 'MPC', 'CTSH', 'STZ', 'CPT', 'DUK', 'ALL', 'CDNS', 'GNRC', 'DVA', 'EXPD', 'MOH', 'NWS', 'EG', 'MRK', 'AEP', 'SO', 'NCLH', 'PYPL', 'EA', 'NEE', 'SHW', 'HD', 'PCG', 'BKR', 'SYK', 'PG', 'KO', 'K', 'AOS', 'CB', 'HOLX', 'CI', 'BR', 'FDX', 'MAR', 'MTCH', 'DD', 'JBHT', 'MNST', 'CTRA', 'UHS', 'ADI', 'TSN', 'PAYX', 'MPWR', 'MSFT', 'NUE', 'EXR', 'CRL', 'RF', 'CLX', 'BLK', 'C', 'DPZ', 'CTAS', 'GD', 'ZBRA', 'AES', 'DOC', 'ORLY', 'JPM', 'ADBE', 'ABBV', 'AZO', 'NDAQ', 'ADSK', 'TRMB', 'ISRG', 'STT', 'VRTX', 'FCX', 'FI', 'TGT', 'DTE', 'CMI', 'AJG', 'CZR', 'AON', 'FAST', 'CVX', 'DE', 'COST', 'OMC', 'IR', 'IPG', 'BX', 'ESS', 'INTU', 'AIZ', 'ECL', 'EMR', 'MGM', 'CVS', 'REGN', 'HBAN', 'WTW', 'GRMN', 'DXCM', 'NOC', 'AVB', 'HAL', 'FANG', 'FITB', 'VMC', 'ADP', 'CNP', 'SYY', 'LYB', 'ETR', 'AXON', 'BAC', 'COP', 'PH', 'VST', 'J', 'WY', 'XEL', 'FFIV', 'BRK-B', 'BDX', 'WAT', 'CSX', 'CNC', 'GE', 'CPRT', 'KMX', 'COR', 'DRI', 'MKTX', 'ROL', 'SNPS', 'HRL', 'MMC', 'BRO', 'CBOE', 'AVY', 'GEN', 'GPN', 'EQIX', 'HON', 'KIM', 'WRB', 'NFLX', 'HSY', 'PFG', 'RMD', 'AME', 'AIG', 'NTAP', 'ETN', 'CHRW', 'TKO', 'MSCI', 'LULU', 'XYZ', 'DELL', 'DHI', 'WYNN', 'ROST', 'APD', 'SMCI', 'XOM', 'O', 'VLO', 'GILD', 'AEE', 'AXP', 'INTC', 'LH', 'PCAR', 'EOG', 'GDDY', 'TFC', 'LKQ', 'LHX', 'APA', 'STX', 'NRG', 'LUV', 'PNW', 'HAS', 'UAL', 'KR', 'TRGP', 'WBA', 'IP', 'PSX', 'SLB', 'IVZ', 'ADM', 'MMM', 'JCI', 'VRSK', 'INVH', 'DECK', 'BMY', 'PHM', 'AMGN', 'TT', 'ERIE', 'A', 'PFE', 'PANW', 'D', 'GLW', 'CPB', 'PWR', 'LMT', 'DOV', 'ANET', 'IT', 'BG', 'PPL', 'AKAM', 'MS', 'ROP', 'APTV', 'ULTA', 'AMT', 'BIIB', 'YUM', 'TXN', 'BAX', 'DAL', 'ACGL', 'JBL', 'MCHP', 'AMP', 'EVRG', 'TYL', 'HUM', 'KEYS', 'IQV', 'PEP', 'UDR', 'BA', 'PNR', 'MA', 'OKE', 'PPG', 'AMAT', 'KKR', 'MET', 'HPQ', 'FRT', 'LW', 'UPS', 'AWK', 'VTRS', 'ALB', 'SPGI', 'IBM', 'TRV', 'V', 'USB', 'PEG', 'EFX', 'KMI', 'ELV', 'MCO', 'CFG', 'SPG', 'EBAY', 'MDLZ', 'META', 'MU', 'ED', 'DLR', 'SRE', 'EMN', 'ABT', 'NWSA', 'ICE', 'FIS', 'MAS', 'HII', 'MOS', 'PKG', 'WM', 'COO', 'ORCL', 'FTNT', 'VRSN', 'MAA', 'RTX', 'ODFL', 'DVN', 'WEC', 'HUBB', 'SNA', 'BKNG', 'BLDR', 'WST', 'LDOS', 'HCA', 'BALL', 'CSGP', 'TTD', 'GWW', 'SWK', 'TXT', 'NKE', 'GM', 'LRCX', 'BEN', 'KLAC', 'MSI', 'CF', 'KHC', 'KDP', 'IRM', 'WDC', 'UNH', 'PNC', 'ZTS', 'NOW', 'TTWO', 'WDAY', 'GIS', 'CRM', 'SYF', 'WFC', 'FE', 'DLTR', 'CHTR', 'ENPH', 'GPC', 'CPAY', 'MHK', 'OXY'}\n"
     ]
    }
   ],
   "source": [
    "print((len(valid_tickers)), valid_tickers)"
   ]
  },
  {
   "cell_type": "code",
   "execution_count": 57,
   "id": "d3e1f8aa",
   "metadata": {},
   "outputs": [],
   "source": [
    "sp500_historic_df = sp500_historic_df[sp500_historic_df['Ticker'].isin(valid_tickers)]"
   ]
  },
  {
   "cell_type": "code",
   "execution_count": 58,
   "id": "4de5c9be",
   "metadata": {},
   "outputs": [
    {
     "data": {
      "text/html": [
       "<div>\n",
       "<style scoped>\n",
       "    .dataframe tbody tr th:only-of-type {\n",
       "        vertical-align: middle;\n",
       "    }\n",
       "\n",
       "    .dataframe tbody tr th {\n",
       "        vertical-align: top;\n",
       "    }\n",
       "\n",
       "    .dataframe thead th {\n",
       "        text-align: right;\n",
       "    }\n",
       "</style>\n",
       "<table border=\"1\" class=\"dataframe\">\n",
       "  <thead>\n",
       "    <tr style=\"text-align: right;\">\n",
       "      <th></th>\n",
       "      <th>Date</th>\n",
       "      <th>Ticker</th>\n",
       "      <th>Adj Close</th>\n",
       "      <th>Close</th>\n",
       "      <th>High</th>\n",
       "      <th>Low</th>\n",
       "      <th>Open</th>\n",
       "      <th>Volume</th>\n",
       "    </tr>\n",
       "  </thead>\n",
       "  <tbody>\n",
       "    <tr>\n",
       "      <th>0</th>\n",
       "      <td>2015-07-27</td>\n",
       "      <td>A</td>\n",
       "      <td>36.504906</td>\n",
       "      <td>39.610001</td>\n",
       "      <td>39.650002</td>\n",
       "      <td>38.610001</td>\n",
       "      <td>39.040001</td>\n",
       "      <td>5261300.0</td>\n",
       "    </tr>\n",
       "    <tr>\n",
       "      <th>1</th>\n",
       "      <td>2015-07-27</td>\n",
       "      <td>AAPL</td>\n",
       "      <td>27.496405</td>\n",
       "      <td>30.692499</td>\n",
       "      <td>30.902500</td>\n",
       "      <td>30.530001</td>\n",
       "      <td>30.772499</td>\n",
       "      <td>177822000.0</td>\n",
       "    </tr>\n",
       "    <tr>\n",
       "      <th>2</th>\n",
       "      <td>2015-07-27</td>\n",
       "      <td>ABBV</td>\n",
       "      <td>45.658775</td>\n",
       "      <td>69.339996</td>\n",
       "      <td>70.959999</td>\n",
       "      <td>68.459999</td>\n",
       "      <td>68.459999</td>\n",
       "      <td>12841500.0</td>\n",
       "    </tr>\n",
       "    <tr>\n",
       "      <th>3</th>\n",
       "      <td>2015-07-27</td>\n",
       "      <td>ABT</td>\n",
       "      <td>41.930363</td>\n",
       "      <td>50.689999</td>\n",
       "      <td>50.849998</td>\n",
       "      <td>50.209999</td>\n",
       "      <td>50.639999</td>\n",
       "      <td>5484200.0</td>\n",
       "    </tr>\n",
       "    <tr>\n",
       "      <th>4</th>\n",
       "      <td>2015-07-27</td>\n",
       "      <td>ACGL</td>\n",
       "      <td>22.216158</td>\n",
       "      <td>23.363333</td>\n",
       "      <td>23.526667</td>\n",
       "      <td>23.309999</td>\n",
       "      <td>23.366667</td>\n",
       "      <td>923700.0</td>\n",
       "    </tr>\n",
       "    <tr>\n",
       "      <th>...</th>\n",
       "      <td>...</td>\n",
       "      <td>...</td>\n",
       "      <td>...</td>\n",
       "      <td>...</td>\n",
       "      <td>...</td>\n",
       "      <td>...</td>\n",
       "      <td>...</td>\n",
       "      <td>...</td>\n",
       "    </tr>\n",
       "    <tr>\n",
       "      <th>1232411</th>\n",
       "      <td>2025-07-25</td>\n",
       "      <td>XYZ</td>\n",
       "      <td>80.739998</td>\n",
       "      <td>80.739998</td>\n",
       "      <td>81.080002</td>\n",
       "      <td>78.930000</td>\n",
       "      <td>79.754997</td>\n",
       "      <td>5580815.0</td>\n",
       "    </tr>\n",
       "    <tr>\n",
       "      <th>1232412</th>\n",
       "      <td>2025-07-25</td>\n",
       "      <td>YUM</td>\n",
       "      <td>146.699997</td>\n",
       "      <td>146.699997</td>\n",
       "      <td>147.070007</td>\n",
       "      <td>145.104996</td>\n",
       "      <td>145.889999</td>\n",
       "      <td>935447.0</td>\n",
       "    </tr>\n",
       "    <tr>\n",
       "      <th>1232413</th>\n",
       "      <td>2025-07-25</td>\n",
       "      <td>ZBH</td>\n",
       "      <td>97.550003</td>\n",
       "      <td>97.550003</td>\n",
       "      <td>97.760002</td>\n",
       "      <td>96.421799</td>\n",
       "      <td>96.779999</td>\n",
       "      <td>894150.0</td>\n",
       "    </tr>\n",
       "    <tr>\n",
       "      <th>1232414</th>\n",
       "      <td>2025-07-25</td>\n",
       "      <td>ZBRA</td>\n",
       "      <td>335.690002</td>\n",
       "      <td>335.690002</td>\n",
       "      <td>336.149994</td>\n",
       "      <td>329.399994</td>\n",
       "      <td>334.160004</td>\n",
       "      <td>284868.0</td>\n",
       "    </tr>\n",
       "    <tr>\n",
       "      <th>1232415</th>\n",
       "      <td>2025-07-25</td>\n",
       "      <td>ZTS</td>\n",
       "      <td>152.119995</td>\n",
       "      <td>152.119995</td>\n",
       "      <td>153.369995</td>\n",
       "      <td>151.229996</td>\n",
       "      <td>152.300003</td>\n",
       "      <td>2963067.0</td>\n",
       "    </tr>\n",
       "  </tbody>\n",
       "</table>\n",
       "<p>1206376 rows × 8 columns</p>\n",
       "</div>"
      ],
      "text/plain": [
       "               Date Ticker   Adj Close       Close        High         Low  \\\n",
       "0        2015-07-27      A   36.504906   39.610001   39.650002   38.610001   \n",
       "1        2015-07-27   AAPL   27.496405   30.692499   30.902500   30.530001   \n",
       "2        2015-07-27   ABBV   45.658775   69.339996   70.959999   68.459999   \n",
       "3        2015-07-27    ABT   41.930363   50.689999   50.849998   50.209999   \n",
       "4        2015-07-27   ACGL   22.216158   23.363333   23.526667   23.309999   \n",
       "...             ...    ...         ...         ...         ...         ...   \n",
       "1232411  2025-07-25    XYZ   80.739998   80.739998   81.080002   78.930000   \n",
       "1232412  2025-07-25    YUM  146.699997  146.699997  147.070007  145.104996   \n",
       "1232413  2025-07-25    ZBH   97.550003   97.550003   97.760002   96.421799   \n",
       "1232414  2025-07-25   ZBRA  335.690002  335.690002  336.149994  329.399994   \n",
       "1232415  2025-07-25    ZTS  152.119995  152.119995  153.369995  151.229996   \n",
       "\n",
       "               Open       Volume  \n",
       "0         39.040001    5261300.0  \n",
       "1         30.772499  177822000.0  \n",
       "2         68.459999   12841500.0  \n",
       "3         50.639999    5484200.0  \n",
       "4         23.366667     923700.0  \n",
       "...             ...          ...  \n",
       "1232411   79.754997    5580815.0  \n",
       "1232412  145.889999     935447.0  \n",
       "1232413   96.779999     894150.0  \n",
       "1232414  334.160004     284868.0  \n",
       "1232415  152.300003    2963067.0  \n",
       "\n",
       "[1206376 rows x 8 columns]"
      ]
     },
     "metadata": {},
     "output_type": "display_data"
    }
   ],
   "source": [
    "display(sp500_historic_df)"
   ]
  },
  {
   "cell_type": "code",
   "execution_count": 62,
   "id": "7690b40f",
   "metadata": {},
   "outputs": [
    {
     "name": "stderr",
     "output_type": "stream",
     "text": [
      "/var/folders/zw/1p1g2scn1llcnl481zdq41wm0000gn/T/ipykernel_84765/3324818769.py:3: FutureWarning: DataFrame.fillna with 'method' is deprecated and will raise in a future version. Use obj.ffill() or obj.bfill() instead.\n",
      "  sp500_historic_df = sp500_historic_df.groupby('Ticker').apply(lambda g: g.fillna(method='ffill')).reset_index(drop=True)\n",
      "/var/folders/zw/1p1g2scn1llcnl481zdq41wm0000gn/T/ipykernel_84765/3324818769.py:3: FutureWarning: DataFrameGroupBy.apply operated on the grouping columns. This behavior is deprecated, and in a future version of pandas the grouping columns will be excluded from the operation. Either pass `include_groups=False` to exclude the groupings or explicitly select the grouping columns after groupby to silence this warning.\n",
      "  sp500_historic_df = sp500_historic_df.groupby('Ticker').apply(lambda g: g.fillna(method='ffill')).reset_index(drop=True)\n"
     ]
    }
   ],
   "source": [
    "# Forward fill NA values\n",
    "\n",
    "sp500_historic_df = sp500_historic_df.groupby('Ticker').apply(lambda g: g.fillna(method='ffill')).reset_index(drop=True)\n",
    "sp500_historic_df = sp500_historic_df.dropna(subset=[\"Adj Close\"])"
   ]
  },
  {
   "cell_type": "code",
   "execution_count": 63,
   "id": "e9a632ee",
   "metadata": {},
   "outputs": [
    {
     "data": {
      "text/html": [
       "<div>\n",
       "<style scoped>\n",
       "    .dataframe tbody tr th:only-of-type {\n",
       "        vertical-align: middle;\n",
       "    }\n",
       "\n",
       "    .dataframe tbody tr th {\n",
       "        vertical-align: top;\n",
       "    }\n",
       "\n",
       "    .dataframe thead th {\n",
       "        text-align: right;\n",
       "    }\n",
       "</style>\n",
       "<table border=\"1\" class=\"dataframe\">\n",
       "  <thead>\n",
       "    <tr style=\"text-align: right;\">\n",
       "      <th></th>\n",
       "      <th>Date</th>\n",
       "      <th>Ticker</th>\n",
       "      <th>Adj Close</th>\n",
       "      <th>Close</th>\n",
       "      <th>High</th>\n",
       "      <th>Low</th>\n",
       "      <th>Open</th>\n",
       "      <th>Volume</th>\n",
       "    </tr>\n",
       "  </thead>\n",
       "  <tbody>\n",
       "    <tr>\n",
       "      <th>0</th>\n",
       "      <td>2015-07-27</td>\n",
       "      <td>A</td>\n",
       "      <td>36.504906</td>\n",
       "      <td>39.610001</td>\n",
       "      <td>39.650002</td>\n",
       "      <td>38.610001</td>\n",
       "      <td>39.040001</td>\n",
       "      <td>5261300.0</td>\n",
       "    </tr>\n",
       "    <tr>\n",
       "      <th>1</th>\n",
       "      <td>2015-07-28</td>\n",
       "      <td>A</td>\n",
       "      <td>37.279064</td>\n",
       "      <td>40.450001</td>\n",
       "      <td>40.470001</td>\n",
       "      <td>39.500000</td>\n",
       "      <td>40.000000</td>\n",
       "      <td>2768200.0</td>\n",
       "    </tr>\n",
       "    <tr>\n",
       "      <th>2</th>\n",
       "      <td>2015-07-29</td>\n",
       "      <td>A</td>\n",
       "      <td>37.232983</td>\n",
       "      <td>40.400002</td>\n",
       "      <td>40.730000</td>\n",
       "      <td>40.240002</td>\n",
       "      <td>40.500000</td>\n",
       "      <td>2014100.0</td>\n",
       "    </tr>\n",
       "    <tr>\n",
       "      <th>3</th>\n",
       "      <td>2015-07-30</td>\n",
       "      <td>A</td>\n",
       "      <td>37.758293</td>\n",
       "      <td>40.970001</td>\n",
       "      <td>41.049999</td>\n",
       "      <td>40.070000</td>\n",
       "      <td>40.259998</td>\n",
       "      <td>2440400.0</td>\n",
       "    </tr>\n",
       "    <tr>\n",
       "      <th>4</th>\n",
       "      <td>2015-07-31</td>\n",
       "      <td>A</td>\n",
       "      <td>37.739868</td>\n",
       "      <td>40.950001</td>\n",
       "      <td>41.139999</td>\n",
       "      <td>40.779999</td>\n",
       "      <td>41.049999</td>\n",
       "      <td>2247700.0</td>\n",
       "    </tr>\n",
       "    <tr>\n",
       "      <th>...</th>\n",
       "      <td>...</td>\n",
       "      <td>...</td>\n",
       "      <td>...</td>\n",
       "      <td>...</td>\n",
       "      <td>...</td>\n",
       "      <td>...</td>\n",
       "      <td>...</td>\n",
       "      <td>...</td>\n",
       "    </tr>\n",
       "    <tr>\n",
       "      <th>1206371</th>\n",
       "      <td>2025-07-21</td>\n",
       "      <td>ZTS</td>\n",
       "      <td>147.369995</td>\n",
       "      <td>147.369995</td>\n",
       "      <td>150.100006</td>\n",
       "      <td>147.279999</td>\n",
       "      <td>149.289993</td>\n",
       "      <td>2997900.0</td>\n",
       "    </tr>\n",
       "    <tr>\n",
       "      <th>1206372</th>\n",
       "      <td>2025-07-22</td>\n",
       "      <td>ZTS</td>\n",
       "      <td>151.190002</td>\n",
       "      <td>151.190002</td>\n",
       "      <td>151.309998</td>\n",
       "      <td>147.250000</td>\n",
       "      <td>147.710007</td>\n",
       "      <td>4560600.0</td>\n",
       "    </tr>\n",
       "    <tr>\n",
       "      <th>1206373</th>\n",
       "      <td>2025-07-23</td>\n",
       "      <td>ZTS</td>\n",
       "      <td>153.449997</td>\n",
       "      <td>153.449997</td>\n",
       "      <td>153.839996</td>\n",
       "      <td>151.479996</td>\n",
       "      <td>152.509995</td>\n",
       "      <td>3010700.0</td>\n",
       "    </tr>\n",
       "    <tr>\n",
       "      <th>1206374</th>\n",
       "      <td>2025-07-24</td>\n",
       "      <td>ZTS</td>\n",
       "      <td>152.820007</td>\n",
       "      <td>152.820007</td>\n",
       "      <td>154.039993</td>\n",
       "      <td>152.220001</td>\n",
       "      <td>153.559998</td>\n",
       "      <td>3320000.0</td>\n",
       "    </tr>\n",
       "    <tr>\n",
       "      <th>1206375</th>\n",
       "      <td>2025-07-25</td>\n",
       "      <td>ZTS</td>\n",
       "      <td>152.119995</td>\n",
       "      <td>152.119995</td>\n",
       "      <td>153.369995</td>\n",
       "      <td>151.229996</td>\n",
       "      <td>152.300003</td>\n",
       "      <td>2963067.0</td>\n",
       "    </tr>\n",
       "  </tbody>\n",
       "</table>\n",
       "<p>1206376 rows × 8 columns</p>\n",
       "</div>"
      ],
      "text/plain": [
       "               Date Ticker   Adj Close       Close        High         Low  \\\n",
       "0        2015-07-27      A   36.504906   39.610001   39.650002   38.610001   \n",
       "1        2015-07-28      A   37.279064   40.450001   40.470001   39.500000   \n",
       "2        2015-07-29      A   37.232983   40.400002   40.730000   40.240002   \n",
       "3        2015-07-30      A   37.758293   40.970001   41.049999   40.070000   \n",
       "4        2015-07-31      A   37.739868   40.950001   41.139999   40.779999   \n",
       "...             ...    ...         ...         ...         ...         ...   \n",
       "1206371  2025-07-21    ZTS  147.369995  147.369995  150.100006  147.279999   \n",
       "1206372  2025-07-22    ZTS  151.190002  151.190002  151.309998  147.250000   \n",
       "1206373  2025-07-23    ZTS  153.449997  153.449997  153.839996  151.479996   \n",
       "1206374  2025-07-24    ZTS  152.820007  152.820007  154.039993  152.220001   \n",
       "1206375  2025-07-25    ZTS  152.119995  152.119995  153.369995  151.229996   \n",
       "\n",
       "               Open     Volume  \n",
       "0         39.040001  5261300.0  \n",
       "1         40.000000  2768200.0  \n",
       "2         40.500000  2014100.0  \n",
       "3         40.259998  2440400.0  \n",
       "4         41.049999  2247700.0  \n",
       "...             ...        ...  \n",
       "1206371  149.289993  2997900.0  \n",
       "1206372  147.710007  4560600.0  \n",
       "1206373  152.509995  3010700.0  \n",
       "1206374  153.559998  3320000.0  \n",
       "1206375  152.300003  2963067.0  \n",
       "\n",
       "[1206376 rows x 8 columns]"
      ]
     },
     "metadata": {},
     "output_type": "display_data"
    }
   ],
   "source": [
    "display(sp500_historic_df)"
   ]
  },
  {
   "cell_type": "code",
   "execution_count": 64,
   "id": "430b593f",
   "metadata": {},
   "outputs": [],
   "source": [
    "sp500_historic_df.to_csv(\"sp500_historical_clean.csv\", index=False)"
   ]
  },
  {
   "cell_type": "markdown",
   "id": "dd412be4",
   "metadata": {},
   "source": [
    "Exploratory Data Analysis"
   ]
  },
  {
   "cell_type": "code",
   "execution_count": 65,
   "id": "ec82f410",
   "metadata": {},
   "outputs": [],
   "source": [
    "sp500_historic_df = pd.read_csv(\"/Users/shivasaivummaji/Desktop/CS:DS/Stock-Market-Analysis-1/sp500_historical_clean.csv\")"
   ]
  },
  {
   "cell_type": "code",
   "execution_count": null,
   "id": "bfd39307",
   "metadata": {},
   "outputs": [],
   "source": []
  },
  {
   "cell_type": "code",
   "execution_count": null,
   "id": "71d82746",
   "metadata": {},
   "outputs": [],
   "source": []
  },
  {
   "cell_type": "code",
   "execution_count": null,
   "id": "485f7960",
   "metadata": {},
   "outputs": [],
   "source": []
  }
 ],
 "metadata": {
  "kernelspec": {
   "display_name": "stock_market_proj",
   "language": "python",
   "name": "python3"
  },
  "language_info": {
   "codemirror_mode": {
    "name": "ipython",
    "version": 3
   },
   "file_extension": ".py",
   "mimetype": "text/x-python",
   "name": "python",
   "nbconvert_exporter": "python",
   "pygments_lexer": "ipython3",
   "version": "3.11.13"
  }
 },
 "nbformat": 4,
 "nbformat_minor": 5
}
